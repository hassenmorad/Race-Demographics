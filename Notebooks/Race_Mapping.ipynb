{
 "cells": [
  {
   "cell_type": "markdown",
   "metadata": {},
   "source": [
    "## Mapping U.S. Race Demographics\n",
    "Mapping 2017 Census race demographics by zip code (33,000+)"
   ]
  },
  {
   "cell_type": "code",
   "execution_count": 1,
   "metadata": {},
   "outputs": [],
   "source": [
    "import pandas as pd\n",
    "import numpy as np\n",
    "import geopandas as gpd"
   ]
  },
  {
   "cell_type": "markdown",
   "metadata": {},
   "source": [
    "---"
   ]
  },
  {
   "cell_type": "markdown",
   "metadata": {},
   "source": [
    "Zip Codes & Cities:"
   ]
  },
  {
   "cell_type": "code",
   "execution_count": 2,
   "metadata": {},
   "outputs": [],
   "source": [
    "# All US zip codes (from: https://simplemaps.com/data/us-zips)\n",
    "zip_city = pd.read_csv('uszips.csv')"
   ]
  },
  {
   "cell_type": "code",
   "execution_count": 3,
   "metadata": {},
   "outputs": [
    {
     "data": {
      "text/html": [
       "<div>\n",
       "<style scoped>\n",
       "    .dataframe tbody tr th:only-of-type {\n",
       "        vertical-align: middle;\n",
       "    }\n",
       "\n",
       "    .dataframe tbody tr th {\n",
       "        vertical-align: top;\n",
       "    }\n",
       "\n",
       "    .dataframe thead th {\n",
       "        text-align: right;\n",
       "    }\n",
       "</style>\n",
       "<table border=\"1\" class=\"dataframe\">\n",
       "  <thead>\n",
       "    <tr style=\"text-align: right;\">\n",
       "      <th></th>\n",
       "      <th>zip</th>\n",
       "      <th>lat</th>\n",
       "      <th>lng</th>\n",
       "      <th>city</th>\n",
       "      <th>state_id</th>\n",
       "      <th>state_name</th>\n",
       "      <th>zcta</th>\n",
       "      <th>parent_zcta</th>\n",
       "      <th>population</th>\n",
       "      <th>density</th>\n",
       "      <th>county_fips</th>\n",
       "      <th>county_name</th>\n",
       "      <th>all_county_weights</th>\n",
       "      <th>imprecise</th>\n",
       "      <th>military</th>\n",
       "      <th>timezone</th>\n",
       "    </tr>\n",
       "  </thead>\n",
       "  <tbody>\n",
       "    <tr>\n",
       "      <td>0</td>\n",
       "      <td>601</td>\n",
       "      <td>18.18004</td>\n",
       "      <td>-66.75218</td>\n",
       "      <td>Adjuntas</td>\n",
       "      <td>PR</td>\n",
       "      <td>Puerto Rico</td>\n",
       "      <td>True</td>\n",
       "      <td>NaN</td>\n",
       "      <td>18570</td>\n",
       "      <td>111.4</td>\n",
       "      <td>72001</td>\n",
       "      <td>Adjuntas</td>\n",
       "      <td>{'72001':99.43,'72141':0.57}</td>\n",
       "      <td>False</td>\n",
       "      <td>False</td>\n",
       "      <td>America/Puerto_Rico</td>\n",
       "    </tr>\n",
       "  </tbody>\n",
       "</table>\n",
       "</div>"
      ],
      "text/plain": [
       "   zip       lat       lng      city state_id   state_name  zcta  parent_zcta  \\\n",
       "0  601  18.18004 -66.75218  Adjuntas       PR  Puerto Rico  True          NaN   \n",
       "\n",
       "   population  density  county_fips county_name            all_county_weights  \\\n",
       "0       18570    111.4        72001    Adjuntas  {'72001':99.43,'72141':0.57}   \n",
       "\n",
       "   imprecise  military             timezone  \n",
       "0      False     False  America/Puerto_Rico  "
      ]
     },
     "execution_count": 3,
     "metadata": {},
     "output_type": "execute_result"
    }
   ],
   "source": [
    "zip_city.head(1)"
   ]
  },
  {
   "cell_type": "code",
   "execution_count": 4,
   "metadata": {},
   "outputs": [
    {
     "data": {
      "text/plain": [
       "dtype('int64')"
      ]
     },
     "execution_count": 4,
     "metadata": {},
     "output_type": "execute_result"
    }
   ],
   "source": [
    "zip_city.zip.dtype"
   ]
  },
  {
   "cell_type": "code",
   "execution_count": 5,
   "metadata": {},
   "outputs": [
    {
     "data": {
      "text/plain": [
       "33099"
      ]
     },
     "execution_count": 5,
     "metadata": {},
     "output_type": "execute_result"
    }
   ],
   "source": [
    "len(zip_city)"
   ]
  },
  {
   "cell_type": "code",
   "execution_count": 6,
   "metadata": {},
   "outputs": [],
   "source": [
    "zip_city = zip_city[['zip', 'city', 'state_name', 'population', 'density']]"
   ]
  },
  {
   "cell_type": "code",
   "execution_count": 7,
   "metadata": {},
   "outputs": [
    {
     "data": {
      "text/html": [
       "<div>\n",
       "<style scoped>\n",
       "    .dataframe tbody tr th:only-of-type {\n",
       "        vertical-align: middle;\n",
       "    }\n",
       "\n",
       "    .dataframe tbody tr th {\n",
       "        vertical-align: top;\n",
       "    }\n",
       "\n",
       "    .dataframe thead th {\n",
       "        text-align: right;\n",
       "    }\n",
       "</style>\n",
       "<table border=\"1\" class=\"dataframe\">\n",
       "  <thead>\n",
       "    <tr style=\"text-align: right;\">\n",
       "      <th></th>\n",
       "      <th>zip</th>\n",
       "      <th>city</th>\n",
       "      <th>state_name</th>\n",
       "      <th>population</th>\n",
       "      <th>density</th>\n",
       "    </tr>\n",
       "  </thead>\n",
       "  <tbody>\n",
       "    <tr>\n",
       "      <td>0</td>\n",
       "      <td>601</td>\n",
       "      <td>Adjuntas</td>\n",
       "      <td>Puerto Rico</td>\n",
       "      <td>18570</td>\n",
       "      <td>111.4</td>\n",
       "    </tr>\n",
       "  </tbody>\n",
       "</table>\n",
       "</div>"
      ],
      "text/plain": [
       "   zip      city   state_name  population  density\n",
       "0  601  Adjuntas  Puerto Rico       18570    111.4"
      ]
     },
     "execution_count": 7,
     "metadata": {},
     "output_type": "execute_result"
    }
   ],
   "source": [
    "zip_city.head(1)"
   ]
  },
  {
   "cell_type": "markdown",
   "metadata": {},
   "source": [
    "---"
   ]
  },
  {
   "cell_type": "markdown",
   "metadata": {},
   "source": [
    "Zip Codes Shapefile:"
   ]
  },
  {
   "cell_type": "code",
   "execution_count": 8,
   "metadata": {},
   "outputs": [],
   "source": [
    "# Shapefile of all US ZCTA boundaries https://www.census.gov/programs-surveys/geography/guidance/geo-areas/zctas.html\n",
    "zip_shape = gpd.read_file('tl_2019_us_zcta510.shp')"
   ]
  },
  {
   "cell_type": "code",
   "execution_count": 9,
   "metadata": {},
   "outputs": [
    {
     "data": {
      "text/plain": [
       "33144"
      ]
     },
     "execution_count": 9,
     "metadata": {},
     "output_type": "execute_result"
    }
   ],
   "source": [
    "len(zip_shape)"
   ]
  },
  {
   "cell_type": "code",
   "execution_count": 10,
   "metadata": {},
   "outputs": [
    {
     "data": {
      "text/html": [
       "<div>\n",
       "<style scoped>\n",
       "    .dataframe tbody tr th:only-of-type {\n",
       "        vertical-align: middle;\n",
       "    }\n",
       "\n",
       "    .dataframe tbody tr th {\n",
       "        vertical-align: top;\n",
       "    }\n",
       "\n",
       "    .dataframe thead th {\n",
       "        text-align: right;\n",
       "    }\n",
       "</style>\n",
       "<table border=\"1\" class=\"dataframe\">\n",
       "  <thead>\n",
       "    <tr style=\"text-align: right;\">\n",
       "      <th></th>\n",
       "      <th>ZCTA5CE10</th>\n",
       "      <th>GEOID10</th>\n",
       "      <th>CLASSFP10</th>\n",
       "      <th>MTFCC10</th>\n",
       "      <th>FUNCSTAT10</th>\n",
       "      <th>ALAND10</th>\n",
       "      <th>AWATER10</th>\n",
       "      <th>INTPTLAT10</th>\n",
       "      <th>INTPTLON10</th>\n",
       "      <th>geometry</th>\n",
       "    </tr>\n",
       "  </thead>\n",
       "  <tbody>\n",
       "    <tr>\n",
       "      <td>0</td>\n",
       "      <td>43451</td>\n",
       "      <td>43451</td>\n",
       "      <td>B5</td>\n",
       "      <td>G6350</td>\n",
       "      <td>S</td>\n",
       "      <td>63484186</td>\n",
       "      <td>157689</td>\n",
       "      <td>+41.3183010</td>\n",
       "      <td>-083.6174935</td>\n",
       "      <td>POLYGON ((-83.70873 41.32733, -83.70815 41.327...</td>\n",
       "    </tr>\n",
       "  </tbody>\n",
       "</table>\n",
       "</div>"
      ],
      "text/plain": [
       "  ZCTA5CE10 GEOID10 CLASSFP10 MTFCC10 FUNCSTAT10   ALAND10  AWATER10  \\\n",
       "0     43451   43451        B5   G6350          S  63484186    157689   \n",
       "\n",
       "    INTPTLAT10    INTPTLON10  \\\n",
       "0  +41.3183010  -083.6174935   \n",
       "\n",
       "                                            geometry  \n",
       "0  POLYGON ((-83.70873 41.32733, -83.70815 41.327...  "
      ]
     },
     "execution_count": 10,
     "metadata": {},
     "output_type": "execute_result"
    }
   ],
   "source": [
    "zip_shape.head(1)"
   ]
  },
  {
   "cell_type": "code",
   "execution_count": 11,
   "metadata": {},
   "outputs": [
    {
     "data": {
      "text/plain": [
       "ZCTA5CE10       object\n",
       "GEOID10         object\n",
       "CLASSFP10       object\n",
       "MTFCC10         object\n",
       "FUNCSTAT10      object\n",
       "ALAND10          int64\n",
       "AWATER10         int64\n",
       "INTPTLAT10      object\n",
       "INTPTLON10      object\n",
       "geometry      geometry\n",
       "dtype: object"
      ]
     },
     "execution_count": 11,
     "metadata": {},
     "output_type": "execute_result"
    }
   ],
   "source": [
    "zip_shape.dtypes"
   ]
  },
  {
   "cell_type": "code",
   "execution_count": 12,
   "metadata": {},
   "outputs": [],
   "source": [
    "# Converting to enable comparison of zip code values in 'zip_race' below\n",
    "zip_shape['GEOID10'] = zip_shape['GEOID10'].astype(int)"
   ]
  },
  {
   "cell_type": "markdown",
   "metadata": {},
   "source": [
    "---"
   ]
  },
  {
   "cell_type": "markdown",
   "metadata": {},
   "source": [
    "Zip Codes & Race Demographics:"
   ]
  },
  {
   "cell_type": "code",
   "execution_count": 13,
   "metadata": {},
   "outputs": [],
   "source": [
    "# https://factfinder.census.gov/faces/tableservices/jsf/pages/productview.xhtml?src=bkmk\n",
    "zip_race = pd.read_csv('census_race.csv')"
   ]
  },
  {
   "cell_type": "code",
   "execution_count": 14,
   "metadata": {},
   "outputs": [
    {
     "data": {
      "text/plain": [
       "33120"
      ]
     },
     "execution_count": 14,
     "metadata": {},
     "output_type": "execute_result"
    }
   ],
   "source": [
    "len(zip_race)"
   ]
  },
  {
   "cell_type": "code",
   "execution_count": 15,
   "metadata": {},
   "outputs": [
    {
     "data": {
      "text/html": [
       "<div>\n",
       "<style scoped>\n",
       "    .dataframe tbody tr th:only-of-type {\n",
       "        vertical-align: middle;\n",
       "    }\n",
       "\n",
       "    .dataframe tbody tr th {\n",
       "        vertical-align: top;\n",
       "    }\n",
       "\n",
       "    .dataframe thead th {\n",
       "        text-align: right;\n",
       "    }\n",
       "</style>\n",
       "<table border=\"1\" class=\"dataframe\">\n",
       "  <thead>\n",
       "    <tr style=\"text-align: right;\">\n",
       "      <th></th>\n",
       "      <th>Id</th>\n",
       "      <th>Id2</th>\n",
       "      <th>Geography</th>\n",
       "      <th>Estimate; Total:</th>\n",
       "      <th>Margin of Error; Total:</th>\n",
       "      <th>Estimate; Not Hispanic or Latino:</th>\n",
       "      <th>Margin of Error; Not Hispanic or Latino:</th>\n",
       "      <th>Estimate; Not Hispanic or Latino: - White alone</th>\n",
       "      <th>Margin of Error; Not Hispanic or Latino: - White alone</th>\n",
       "      <th>Estimate; Not Hispanic or Latino: - Black or African American alone</th>\n",
       "      <th>...</th>\n",
       "      <th>Estimate; Hispanic or Latino: - Native Hawaiian and Other Pacific Islander alone</th>\n",
       "      <th>Margin of Error; Hispanic or Latino: - Native Hawaiian and Other Pacific Islander alone</th>\n",
       "      <th>Estimate; Hispanic or Latino: - Some other race alone</th>\n",
       "      <th>Margin of Error; Hispanic or Latino: - Some other race alone</th>\n",
       "      <th>Estimate; Hispanic or Latino: - Two or more races:</th>\n",
       "      <th>Margin of Error; Hispanic or Latino: - Two or more races:</th>\n",
       "      <th>Estimate; Hispanic or Latino: - Two or more races: - Two races including Some other race</th>\n",
       "      <th>Margin of Error; Hispanic or Latino: - Two or more races: - Two races including Some other race</th>\n",
       "      <th>Estimate; Hispanic or Latino: - Two or more races: - Two races excluding Some other race, and three or more races</th>\n",
       "      <th>Margin of Error; Hispanic or Latino: - Two or more races: - Two races excluding Some other race, and three or more races</th>\n",
       "    </tr>\n",
       "  </thead>\n",
       "  <tbody>\n",
       "    <tr>\n",
       "      <td>0</td>\n",
       "      <td>8600000US00601</td>\n",
       "      <td>601</td>\n",
       "      <td>ZCTA5 00601</td>\n",
       "      <td>17599</td>\n",
       "      <td>261</td>\n",
       "      <td>66</td>\n",
       "      <td>48</td>\n",
       "      <td>59</td>\n",
       "      <td>47</td>\n",
       "      <td>0</td>\n",
       "      <td>...</td>\n",
       "      <td>0</td>\n",
       "      <td>21</td>\n",
       "      <td>3641</td>\n",
       "      <td>588</td>\n",
       "      <td>135</td>\n",
       "      <td>153</td>\n",
       "      <td>21</td>\n",
       "      <td>24</td>\n",
       "      <td>114</td>\n",
       "      <td>147</td>\n",
       "    </tr>\n",
       "  </tbody>\n",
       "</table>\n",
       "<p>1 rows × 45 columns</p>\n",
       "</div>"
      ],
      "text/plain": [
       "               Id  Id2    Geography  Estimate; Total: Margin of Error; Total:  \\\n",
       "0  8600000US00601  601  ZCTA5 00601             17599                     261   \n",
       "\n",
       "   Estimate; Not Hispanic or Latino: Margin of Error; Not Hispanic or Latino:  \\\n",
       "0                                 66                                       48   \n",
       "\n",
       "   Estimate; Not Hispanic or Latino: - White alone  \\\n",
       "0                                               59   \n",
       "\n",
       "   Margin of Error; Not Hispanic or Latino: - White alone  \\\n",
       "0                                                 47        \n",
       "\n",
       "   Estimate; Not Hispanic or Latino: - Black or African American alone  ...  \\\n",
       "0                                                  0                    ...   \n",
       "\n",
       "   Estimate; Hispanic or Latino: - Native Hawaiian and Other Pacific Islander alone  \\\n",
       "0                                                  0                                  \n",
       "\n",
       "   Margin of Error; Hispanic or Latino: - Native Hawaiian and Other Pacific Islander alone  \\\n",
       "0                                                 21                                         \n",
       "\n",
       "   Estimate; Hispanic or Latino: - Some other race alone  \\\n",
       "0                                               3641       \n",
       "\n",
       "   Margin of Error; Hispanic or Latino: - Some other race alone  \\\n",
       "0                                                588              \n",
       "\n",
       "   Estimate; Hispanic or Latino: - Two or more races:  \\\n",
       "0                                                135    \n",
       "\n",
       "   Margin of Error; Hispanic or Latino: - Two or more races:  \\\n",
       "0                                                153           \n",
       "\n",
       "   Estimate; Hispanic or Latino: - Two or more races: - Two races including Some other race  \\\n",
       "0                                                 21                                          \n",
       "\n",
       "   Margin of Error; Hispanic or Latino: - Two or more races: - Two races including Some other race  \\\n",
       "0                                                 24                                                 \n",
       "\n",
       "   Estimate; Hispanic or Latino: - Two or more races: - Two races excluding Some other race, and three or more races  \\\n",
       "0                                                114                                                                   \n",
       "\n",
       "   Margin of Error; Hispanic or Latino: - Two or more races: - Two races excluding Some other race, and three or more races  \n",
       "0                                                147                                                                         \n",
       "\n",
       "[1 rows x 45 columns]"
      ]
     },
     "execution_count": 15,
     "metadata": {},
     "output_type": "execute_result"
    }
   ],
   "source": [
    "zip_race.head(1)"
   ]
  },
  {
   "cell_type": "code",
   "execution_count": 16,
   "metadata": {},
   "outputs": [
    {
     "data": {
      "text/plain": [
       "Index(['Id', 'Id2', 'Geography', 'Estimate; Total:', 'Margin of Error; Total:',\n",
       "       'Estimate; Not Hispanic or Latino:',\n",
       "       'Margin of Error; Not Hispanic or Latino:',\n",
       "       'Estimate; Not Hispanic or Latino: - White alone',\n",
       "       'Margin of Error; Not Hispanic or Latino: - White alone',\n",
       "       'Estimate; Not Hispanic or Latino: - Black or African American alone',\n",
       "       'Margin of Error; Not Hispanic or Latino: - Black or African American alone',\n",
       "       'Estimate; Not Hispanic or Latino: - American Indian and Alaska Native alone',\n",
       "       'Margin of Error; Not Hispanic or Latino: - American Indian and Alaska Native alone',\n",
       "       'Estimate; Not Hispanic or Latino: - Asian alone',\n",
       "       'Margin of Error; Not Hispanic or Latino: - Asian alone',\n",
       "       'Estimate; Not Hispanic or Latino: - Native Hawaiian and Other Pacific Islander alone',\n",
       "       'Margin of Error; Not Hispanic or Latino: - Native Hawaiian and Other Pacific Islander alone',\n",
       "       'Estimate; Not Hispanic or Latino: - Some other race alone',\n",
       "       'Margin of Error; Not Hispanic or Latino: - Some other race alone',\n",
       "       'Estimate; Not Hispanic or Latino: - Two or more races:',\n",
       "       'Margin of Error; Not Hispanic or Latino: - Two or more races:',\n",
       "       'Estimate; Not Hispanic or Latino: - Two or more races: - Two races including Some other race',\n",
       "       'Margin of Error; Not Hispanic or Latino: - Two or more races: - Two races including Some other race',\n",
       "       'Estimate; Not Hispanic or Latino: - Two or more races: - Two races excluding Some other race, and three or more races',\n",
       "       'Margin of Error; Not Hispanic or Latino: - Two or more races: - Two races excluding Some other race, and three or more races',\n",
       "       'Estimate; Hispanic or Latino:', 'Margin of Error; Hispanic or Latino:',\n",
       "       'Estimate; Hispanic or Latino: - White alone',\n",
       "       'Margin of Error; Hispanic or Latino: - White alone',\n",
       "       'Estimate; Hispanic or Latino: - Black or African American alone',\n",
       "       'Margin of Error; Hispanic or Latino: - Black or African American alone',\n",
       "       'Estimate; Hispanic or Latino: - American Indian and Alaska Native alone',\n",
       "       'Margin of Error; Hispanic or Latino: - American Indian and Alaska Native alone',\n",
       "       'Estimate; Hispanic or Latino: - Asian alone',\n",
       "       'Margin of Error; Hispanic or Latino: - Asian alone',\n",
       "       'Estimate; Hispanic or Latino: - Native Hawaiian and Other Pacific Islander alone',\n",
       "       'Margin of Error; Hispanic or Latino: - Native Hawaiian and Other Pacific Islander alone',\n",
       "       'Estimate; Hispanic or Latino: - Some other race alone',\n",
       "       'Margin of Error; Hispanic or Latino: - Some other race alone',\n",
       "       'Estimate; Hispanic or Latino: - Two or more races:',\n",
       "       'Margin of Error; Hispanic or Latino: - Two or more races:',\n",
       "       'Estimate; Hispanic or Latino: - Two or more races: - Two races including Some other race',\n",
       "       'Margin of Error; Hispanic or Latino: - Two or more races: - Two races including Some other race',\n",
       "       'Estimate; Hispanic or Latino: - Two or more races: - Two races excluding Some other race, and three or more races',\n",
       "       'Margin of Error; Hispanic or Latino: - Two or more races: - Two races excluding Some other race, and three or more races'],\n",
       "      dtype='object')"
      ]
     },
     "execution_count": 16,
     "metadata": {},
     "output_type": "execute_result"
    }
   ],
   "source": [
    "zip_race.columns"
   ]
  },
  {
   "cell_type": "code",
   "execution_count": 17,
   "metadata": {},
   "outputs": [],
   "source": [
    "# Keeping relevant columns only\n",
    "columns = ['Id2', \n",
    "           'Estimate; Total:',\n",
    "           'Estimate; Not Hispanic or Latino: - White alone',\n",
    "           'Estimate; Not Hispanic or Latino: - Black or African American alone',\n",
    "           'Estimate; Not Hispanic or Latino: - American Indian and Alaska Native alone',\n",
    "           'Estimate; Not Hispanic or Latino: - Asian alone',\n",
    "           'Estimate; Not Hispanic or Latino: - Native Hawaiian and Other Pacific Islander alone',\n",
    "           'Estimate; Not Hispanic or Latino: - Some other race alone',\n",
    "           'Estimate; Not Hispanic or Latino: - Two or more races:',\n",
    "           'Estimate; Not Hispanic or Latino: - Two or more races: - Two races including Some other race',\n",
    "           'Estimate; Not Hispanic or Latino: - Two or more races: - Two races excluding Some other race, and three or more races',\n",
    "           'Estimate; Hispanic or Latino:']"
   ]
  },
  {
   "cell_type": "code",
   "execution_count": 18,
   "metadata": {},
   "outputs": [],
   "source": [
    "zip_race = zip_race[columns]"
   ]
  },
  {
   "cell_type": "code",
   "execution_count": 19,
   "metadata": {},
   "outputs": [],
   "source": [
    "# Simplifying column names\n",
    "zip_race = zip_race.rename({'Id2':'Zip_Code', \n",
    "                     'Estimate; Total:':'Population', \n",
    "                     'Estimate; Not Hispanic or Latino: - White alone':'White', \n",
    "                     'Estimate; Not Hispanic or Latino: - Black or African American alone':'Black', \n",
    "                     'Estimate; Not Hispanic or Latino: - American Indian and Alaska Native alone':'Native_American', \n",
    "                     'Estimate; Not Hispanic or Latino: - Asian alone':'Asian', \n",
    "                     'Estimate; Not Hispanic or Latino: - Native Hawaiian and Other Pacific Islander alone':'Hawaiian_Pacific_Islander',\n",
    "                     'Estimate; Not Hispanic or Latino: - Some other race alone':'Other', \n",
    "                     'Estimate; Not Hispanic or Latino: - Two or more races:':'Mixed_Race1', \n",
    "                     'Estimate; Not Hispanic or Latino: - Two or more races: - Two races including Some other race':'Mixed_Race2',\n",
    "                     'Estimate; Not Hispanic or Latino: - Two or more races: - Two races excluding Some other race, and three or more races':'Mixed_Race3',\n",
    "                     'Estimate; Hispanic or Latino:':'Latino'}, axis=1)"
   ]
  },
  {
   "cell_type": "code",
   "execution_count": 20,
   "metadata": {},
   "outputs": [],
   "source": [
    "zip_race['Mixed_Race'] = zip_race['Mixed_Race1'] + zip_race['Mixed_Race2'] + zip_race['Mixed_Race3']\n",
    "zip_race = zip_race.drop(['Mixed_Race1', 'Mixed_Race2', 'Mixed_Race3'], axis=1)"
   ]
  },
  {
   "cell_type": "code",
   "execution_count": 21,
   "metadata": {},
   "outputs": [
    {
     "data": {
      "text/html": [
       "<div>\n",
       "<style scoped>\n",
       "    .dataframe tbody tr th:only-of-type {\n",
       "        vertical-align: middle;\n",
       "    }\n",
       "\n",
       "    .dataframe tbody tr th {\n",
       "        vertical-align: top;\n",
       "    }\n",
       "\n",
       "    .dataframe thead th {\n",
       "        text-align: right;\n",
       "    }\n",
       "</style>\n",
       "<table border=\"1\" class=\"dataframe\">\n",
       "  <thead>\n",
       "    <tr style=\"text-align: right;\">\n",
       "      <th></th>\n",
       "      <th>Zip_Code</th>\n",
       "      <th>Population</th>\n",
       "      <th>White</th>\n",
       "      <th>Black</th>\n",
       "      <th>Native_American</th>\n",
       "      <th>Asian</th>\n",
       "      <th>Hawaiian_Pacific_Islander</th>\n",
       "      <th>Other</th>\n",
       "      <th>Latino</th>\n",
       "      <th>Mixed_Race</th>\n",
       "    </tr>\n",
       "  </thead>\n",
       "  <tbody>\n",
       "    <tr>\n",
       "      <td>0</td>\n",
       "      <td>601</td>\n",
       "      <td>17599</td>\n",
       "      <td>59</td>\n",
       "      <td>0</td>\n",
       "      <td>7</td>\n",
       "      <td>0</td>\n",
       "      <td>0</td>\n",
       "      <td>0</td>\n",
       "      <td>17533</td>\n",
       "      <td>0</td>\n",
       "    </tr>\n",
       "  </tbody>\n",
       "</table>\n",
       "</div>"
      ],
      "text/plain": [
       "   Zip_Code  Population  White  Black  Native_American  Asian  \\\n",
       "0       601       17599     59      0                7      0   \n",
       "\n",
       "   Hawaiian_Pacific_Islander  Other  Latino  Mixed_Race  \n",
       "0                          0      0   17533           0  "
      ]
     },
     "execution_count": 21,
     "metadata": {},
     "output_type": "execute_result"
    }
   ],
   "source": [
    "zip_race.head(1)"
   ]
  },
  {
   "cell_type": "code",
   "execution_count": 22,
   "metadata": {},
   "outputs": [],
   "source": [
    "zip_race.to_csv('raw_race_data.csv', index=False)"
   ]
  },
  {
   "cell_type": "markdown",
   "metadata": {},
   "source": [
    "---"
   ]
  },
  {
   "cell_type": "markdown",
   "metadata": {},
   "source": [
    "#### Checking Population Data Accuracy"
   ]
  },
  {
   "cell_type": "code",
   "execution_count": 22,
   "metadata": {},
   "outputs": [
    {
     "name": "stdout",
     "output_type": "stream",
     "text": [
      "25376\n"
     ]
    }
   ],
   "source": [
    "# Number of records where total population doesn't match sum of individual race population figures\n",
    "counter = 0\n",
    "for i, row in zip_race.iterrows():\n",
    "    vals = row.values[2:]\n",
    "    total = sum(vals)\n",
    "    if total != row.Population:\n",
    "        counter += 1\n",
    "print(counter)"
   ]
  },
  {
   "cell_type": "code",
   "execution_count": 23,
   "metadata": {},
   "outputs": [
    {
     "name": "stdout",
     "output_type": "stream",
     "text": [
      "606\n"
     ]
    }
   ],
   "source": [
    "# Checking how many rows are off by more than 10%\n",
    "counter = 0\n",
    "for i, row in zip_race.iterrows():\n",
    "    vals = row.values[2:]\n",
    "    total = sum(vals)\n",
    "    if total > (row.Population + row.Population * .1): \n",
    "        counter += 1\n",
    "print(counter)"
   ]
  },
  {
   "cell_type": "markdown",
   "metadata": {},
   "source": [
    "*About 2% of records contain demographic data that are off by more than 10%, which is a low enough to be acceptable"
   ]
  },
  {
   "cell_type": "markdown",
   "metadata": {},
   "source": [
    "---"
   ]
  },
  {
   "cell_type": "markdown",
   "metadata": {},
   "source": [
    "#### Normalizing Population Data\n",
    "(to account for slightly inaccurate population data)"
   ]
  },
  {
   "cell_type": "markdown",
   "metadata": {},
   "source": [
    "*Separating records w/ missing population data (b/c will result in nulls when normalizing):"
   ]
  },
  {
   "cell_type": "code",
   "execution_count": 24,
   "metadata": {},
   "outputs": [
    {
     "data": {
      "text/plain": [
       "317"
      ]
     },
     "execution_count": 24,
     "metadata": {},
     "output_type": "execute_result"
    }
   ],
   "source": [
    "len(zip_race[zip_race.Population == 0])"
   ]
  },
  {
   "cell_type": "code",
   "execution_count": 25,
   "metadata": {},
   "outputs": [],
   "source": [
    "nulls_df = zip_race[zip_race.Population == 0]\n",
    "not_nulls_df = zip_race[zip_race.Population != 0]"
   ]
  },
  {
   "cell_type": "code",
   "execution_count": 26,
   "metadata": {},
   "outputs": [],
   "source": [
    "not_normalized = not_nulls_df.loc[:,:'Population']\n",
    "normalized = not_nulls_df.loc[:, 'White':]\n",
    "normalized = normalized.div(normalized.sum(axis=1), axis=0).round(2) * 100  # rounding to nearest whole number for simpler presentation of data in map\n",
    "joined = pd.concat([not_normalized, normalized], axis=1)"
   ]
  },
  {
   "cell_type": "code",
   "execution_count": 27,
   "metadata": {},
   "outputs": [],
   "source": [
    "cleaned = pd.concat([joined, nulls_df]).sort_values('Zip_Code')"
   ]
  },
  {
   "cell_type": "code",
   "execution_count": 28,
   "metadata": {},
   "outputs": [
    {
     "data": {
      "text/html": [
       "<div>\n",
       "<style scoped>\n",
       "    .dataframe tbody tr th:only-of-type {\n",
       "        vertical-align: middle;\n",
       "    }\n",
       "\n",
       "    .dataframe tbody tr th {\n",
       "        vertical-align: top;\n",
       "    }\n",
       "\n",
       "    .dataframe thead th {\n",
       "        text-align: right;\n",
       "    }\n",
       "</style>\n",
       "<table border=\"1\" class=\"dataframe\">\n",
       "  <thead>\n",
       "    <tr style=\"text-align: right;\">\n",
       "      <th></th>\n",
       "      <th>Zip_Code</th>\n",
       "      <th>Population</th>\n",
       "      <th>White</th>\n",
       "      <th>Black</th>\n",
       "      <th>Native_American</th>\n",
       "      <th>Asian</th>\n",
       "      <th>Hawaiian_Pacific_Islander</th>\n",
       "      <th>Other</th>\n",
       "      <th>Latino</th>\n",
       "      <th>Mixed_Race</th>\n",
       "    </tr>\n",
       "  </thead>\n",
       "  <tbody>\n",
       "    <tr>\n",
       "      <td>0</td>\n",
       "      <td>601</td>\n",
       "      <td>17599</td>\n",
       "      <td>0.0</td>\n",
       "      <td>0.0</td>\n",
       "      <td>0.0</td>\n",
       "      <td>0.0</td>\n",
       "      <td>0.0</td>\n",
       "      <td>0.0</td>\n",
       "      <td>100.0</td>\n",
       "      <td>0.0</td>\n",
       "    </tr>\n",
       "    <tr>\n",
       "      <td>1</td>\n",
       "      <td>602</td>\n",
       "      <td>39209</td>\n",
       "      <td>4.0</td>\n",
       "      <td>0.0</td>\n",
       "      <td>0.0</td>\n",
       "      <td>0.0</td>\n",
       "      <td>0.0</td>\n",
       "      <td>0.0</td>\n",
       "      <td>92.0</td>\n",
       "      <td>4.0</td>\n",
       "    </tr>\n",
       "  </tbody>\n",
       "</table>\n",
       "</div>"
      ],
      "text/plain": [
       "   Zip_Code  Population  White  Black  Native_American  Asian  \\\n",
       "0       601       17599    0.0    0.0              0.0    0.0   \n",
       "1       602       39209    4.0    0.0              0.0    0.0   \n",
       "\n",
       "   Hawaiian_Pacific_Islander  Other  Latino  Mixed_Race  \n",
       "0                        0.0    0.0   100.0         0.0  \n",
       "1                        0.0    0.0    92.0         4.0  "
      ]
     },
     "execution_count": 28,
     "metadata": {},
     "output_type": "execute_result"
    }
   ],
   "source": [
    "cleaned.head(2)"
   ]
  },
  {
   "cell_type": "code",
   "execution_count": 29,
   "metadata": {},
   "outputs": [
    {
     "data": {
      "text/plain": [
       "Zip_Code                     0\n",
       "Population                   0\n",
       "White                        0\n",
       "Black                        0\n",
       "Native_American              0\n",
       "Asian                        0\n",
       "Hawaiian_Pacific_Islander    0\n",
       "Other                        0\n",
       "Latino                       0\n",
       "Mixed_Race                   0\n",
       "dtype: int64"
      ]
     },
     "execution_count": 29,
     "metadata": {},
     "output_type": "execute_result"
    }
   ],
   "source": [
    "cleaned.isnull().sum()"
   ]
  },
  {
   "cell_type": "markdown",
   "metadata": {},
   "source": [
    "---"
   ]
  },
  {
   "cell_type": "markdown",
   "metadata": {},
   "source": [
    "#### Linking City Name to Zip Code"
   ]
  },
  {
   "cell_type": "code",
   "execution_count": 30,
   "metadata": {},
   "outputs": [
    {
     "data": {
      "text/html": [
       "<div>\n",
       "<style scoped>\n",
       "    .dataframe tbody tr th:only-of-type {\n",
       "        vertical-align: middle;\n",
       "    }\n",
       "\n",
       "    .dataframe tbody tr th {\n",
       "        vertical-align: top;\n",
       "    }\n",
       "\n",
       "    .dataframe thead th {\n",
       "        text-align: right;\n",
       "    }\n",
       "</style>\n",
       "<table border=\"1\" class=\"dataframe\">\n",
       "  <thead>\n",
       "    <tr style=\"text-align: right;\">\n",
       "      <th></th>\n",
       "      <th>Zip_Code</th>\n",
       "      <th>Population</th>\n",
       "      <th>White</th>\n",
       "      <th>Black</th>\n",
       "      <th>Native_American</th>\n",
       "      <th>Asian</th>\n",
       "      <th>Hawaiian_Pacific_Islander</th>\n",
       "      <th>Other</th>\n",
       "      <th>Latino</th>\n",
       "      <th>Mixed_Race</th>\n",
       "    </tr>\n",
       "  </thead>\n",
       "  <tbody>\n",
       "    <tr>\n",
       "      <td>0</td>\n",
       "      <td>601</td>\n",
       "      <td>17599</td>\n",
       "      <td>0.0</td>\n",
       "      <td>0.0</td>\n",
       "      <td>0.0</td>\n",
       "      <td>0.0</td>\n",
       "      <td>0.0</td>\n",
       "      <td>0.0</td>\n",
       "      <td>100.0</td>\n",
       "      <td>0.0</td>\n",
       "    </tr>\n",
       "  </tbody>\n",
       "</table>\n",
       "</div>"
      ],
      "text/plain": [
       "   Zip_Code  Population  White  Black  Native_American  Asian  \\\n",
       "0       601       17599    0.0    0.0              0.0    0.0   \n",
       "\n",
       "   Hawaiian_Pacific_Islander  Other  Latino  Mixed_Race  \n",
       "0                        0.0    0.0   100.0         0.0  "
      ]
     },
     "execution_count": 30,
     "metadata": {},
     "output_type": "execute_result"
    }
   ],
   "source": [
    "cleaned.head(1)"
   ]
  },
  {
   "cell_type": "code",
   "execution_count": 31,
   "metadata": {},
   "outputs": [
    {
     "data": {
      "text/html": [
       "<div>\n",
       "<style scoped>\n",
       "    .dataframe tbody tr th:only-of-type {\n",
       "        vertical-align: middle;\n",
       "    }\n",
       "\n",
       "    .dataframe tbody tr th {\n",
       "        vertical-align: top;\n",
       "    }\n",
       "\n",
       "    .dataframe thead th {\n",
       "        text-align: right;\n",
       "    }\n",
       "</style>\n",
       "<table border=\"1\" class=\"dataframe\">\n",
       "  <thead>\n",
       "    <tr style=\"text-align: right;\">\n",
       "      <th></th>\n",
       "      <th>zip</th>\n",
       "      <th>city</th>\n",
       "      <th>state_name</th>\n",
       "      <th>population</th>\n",
       "      <th>density</th>\n",
       "    </tr>\n",
       "  </thead>\n",
       "  <tbody>\n",
       "    <tr>\n",
       "      <td>0</td>\n",
       "      <td>601</td>\n",
       "      <td>Adjuntas</td>\n",
       "      <td>Puerto Rico</td>\n",
       "      <td>18570</td>\n",
       "      <td>111.4</td>\n",
       "    </tr>\n",
       "  </tbody>\n",
       "</table>\n",
       "</div>"
      ],
      "text/plain": [
       "   zip      city   state_name  population  density\n",
       "0  601  Adjuntas  Puerto Rico       18570    111.4"
      ]
     },
     "execution_count": 31,
     "metadata": {},
     "output_type": "execute_result"
    }
   ],
   "source": [
    "zip_city.head(1)"
   ]
  },
  {
   "cell_type": "markdown",
   "metadata": {},
   "source": [
    "*Note that population is lower in 'cleaned' because this data is from 2017, whereas zip_city is from 2019; I relied on 'cleaned' population to be consistent w/ racial demographics, though I did include zip_city density in case it's useful"
   ]
  },
  {
   "cell_type": "code",
   "execution_count": 32,
   "metadata": {},
   "outputs": [],
   "source": [
    "cities = []\n",
    "states = []\n",
    "densities = []\n",
    "for i, row in cleaned.iterrows():\n",
    "    try:\n",
    "        city = zip_city['city'][zip_city['zip'] == row['Zip_Code']].iloc[0]\n",
    "        state = zip_city['state_name'][zip_city['zip'] == row['Zip_Code']].iloc[0]\n",
    "        density = zip_city['density'][zip_city['zip'] == row['Zip_Code']].iloc[0]\n",
    "    except:\n",
    "        city = np.nan\n",
    "        state = np.nan\n",
    "        density = np.nan\n",
    "    cities.append(city)\n",
    "    states.append(state)\n",
    "    densities.append(density)"
   ]
  },
  {
   "cell_type": "code",
   "execution_count": 33,
   "metadata": {},
   "outputs": [
    {
     "data": {
      "text/plain": [
       "\"cities = []\\nstates = []\\ndensities = []\\nfor i, row in zip_race.iterrows():\\n    for col in ['city', 'state_name', 'density']:\\n        lists = [cities, states, densities]\\n        counter = 0\\n        try:\\n            val = zip_city[col][zip_city['zip'] == row['Zip_Code']].iloc[0]\\n        except:\\n            val = np.nan\\n        lists[counter].append(val)\\n        counter += 1\""
      ]
     },
     "execution_count": 33,
     "metadata": {},
     "output_type": "execute_result"
    }
   ],
   "source": [
    "# Alternative method\n",
    "\"\"\"cities = []\n",
    "states = []\n",
    "densities = []\n",
    "for i, row in zip_race.iterrows():\n",
    "    for col in ['city', 'state_name', 'density']:\n",
    "        lists = [cities, states, densities]\n",
    "        counter = 0\n",
    "        try:\n",
    "            val = zip_city[col][zip_city['zip'] == row['Zip_Code']].iloc[0]\n",
    "        except:\n",
    "            val = np.nan\n",
    "        lists[counter].append(val)\n",
    "        counter += 1\"\"\""
   ]
  },
  {
   "cell_type": "code",
   "execution_count": 34,
   "metadata": {},
   "outputs": [],
   "source": [
    "cleaned['City'] = cities\n",
    "cleaned['State'] = states\n",
    "cleaned['Density'] = densities"
   ]
  },
  {
   "cell_type": "code",
   "execution_count": 35,
   "metadata": {},
   "outputs": [
    {
     "data": {
      "text/plain": [
       "['Zip_Code',\n",
       " 'City',\n",
       " 'State',\n",
       " 'Population',\n",
       " 'Density',\n",
       " 'White',\n",
       " 'Black',\n",
       " 'Native_American',\n",
       " 'Asian',\n",
       " 'Hawaiian_Pacific_Islander',\n",
       " 'Other',\n",
       " 'Latino',\n",
       " 'Mixed_Race']"
      ]
     },
     "execution_count": 35,
     "metadata": {},
     "output_type": "execute_result"
    }
   ],
   "source": [
    "cols = ['Zip_Code', 'City', 'State', 'Population', 'Density'] + list(cleaned.loc[:, 'White':'Mixed_Race'].columns)\n",
    "cols"
   ]
  },
  {
   "cell_type": "code",
   "execution_count": 36,
   "metadata": {},
   "outputs": [
    {
     "data": {
      "text/html": [
       "<div>\n",
       "<style scoped>\n",
       "    .dataframe tbody tr th:only-of-type {\n",
       "        vertical-align: middle;\n",
       "    }\n",
       "\n",
       "    .dataframe tbody tr th {\n",
       "        vertical-align: top;\n",
       "    }\n",
       "\n",
       "    .dataframe thead th {\n",
       "        text-align: right;\n",
       "    }\n",
       "</style>\n",
       "<table border=\"1\" class=\"dataframe\">\n",
       "  <thead>\n",
       "    <tr style=\"text-align: right;\">\n",
       "      <th></th>\n",
       "      <th>Zip_Code</th>\n",
       "      <th>City</th>\n",
       "      <th>State</th>\n",
       "      <th>Population</th>\n",
       "      <th>Density</th>\n",
       "      <th>White</th>\n",
       "      <th>Black</th>\n",
       "      <th>Native_American</th>\n",
       "      <th>Asian</th>\n",
       "      <th>Hawaiian_Pacific_Islander</th>\n",
       "      <th>Other</th>\n",
       "      <th>Latino</th>\n",
       "      <th>Mixed_Race</th>\n",
       "    </tr>\n",
       "  </thead>\n",
       "  <tbody>\n",
       "    <tr>\n",
       "      <td>0</td>\n",
       "      <td>601</td>\n",
       "      <td>Adjuntas</td>\n",
       "      <td>Puerto Rico</td>\n",
       "      <td>17599</td>\n",
       "      <td>111.4</td>\n",
       "      <td>0.0</td>\n",
       "      <td>0.0</td>\n",
       "      <td>0.0</td>\n",
       "      <td>0.0</td>\n",
       "      <td>0.0</td>\n",
       "      <td>0.0</td>\n",
       "      <td>100.0</td>\n",
       "      <td>0.0</td>\n",
       "    </tr>\n",
       "  </tbody>\n",
       "</table>\n",
       "</div>"
      ],
      "text/plain": [
       "   Zip_Code      City        State  Population  Density  White  Black  \\\n",
       "0       601  Adjuntas  Puerto Rico       17599    111.4    0.0    0.0   \n",
       "\n",
       "   Native_American  Asian  Hawaiian_Pacific_Islander  Other  Latino  \\\n",
       "0              0.0    0.0                        0.0    0.0   100.0   \n",
       "\n",
       "   Mixed_Race  \n",
       "0         0.0  "
      ]
     },
     "execution_count": 36,
     "metadata": {},
     "output_type": "execute_result"
    }
   ],
   "source": [
    "cleaned[cols].head(1)"
   ]
  },
  {
   "cell_type": "code",
   "execution_count": 37,
   "metadata": {},
   "outputs": [],
   "source": [
    "cleaned = cleaned[cols]"
   ]
  },
  {
   "cell_type": "code",
   "execution_count": 38,
   "metadata": {},
   "outputs": [],
   "source": [
    "# Converting to str so that values match in QGIS editing (since shapefile zip code values are strings)\n",
    "cleaned['Zip_Code'] = cleaned['Zip_Code'].astype(str).apply(lambda x:x.zfill(5))"
   ]
  },
  {
   "cell_type": "code",
   "execution_count": 39,
   "metadata": {},
   "outputs": [
    {
     "data": {
      "text/html": [
       "<div>\n",
       "<style scoped>\n",
       "    .dataframe tbody tr th:only-of-type {\n",
       "        vertical-align: middle;\n",
       "    }\n",
       "\n",
       "    .dataframe tbody tr th {\n",
       "        vertical-align: top;\n",
       "    }\n",
       "\n",
       "    .dataframe thead th {\n",
       "        text-align: right;\n",
       "    }\n",
       "</style>\n",
       "<table border=\"1\" class=\"dataframe\">\n",
       "  <thead>\n",
       "    <tr style=\"text-align: right;\">\n",
       "      <th></th>\n",
       "      <th>Zip_Code</th>\n",
       "      <th>City</th>\n",
       "      <th>State</th>\n",
       "      <th>Population</th>\n",
       "      <th>Density</th>\n",
       "      <th>White</th>\n",
       "      <th>Black</th>\n",
       "      <th>Native_American</th>\n",
       "      <th>Asian</th>\n",
       "      <th>Hawaiian_Pacific_Islander</th>\n",
       "      <th>Other</th>\n",
       "      <th>Latino</th>\n",
       "      <th>Mixed_Race</th>\n",
       "    </tr>\n",
       "  </thead>\n",
       "  <tbody>\n",
       "    <tr>\n",
       "      <td>0</td>\n",
       "      <td>00601</td>\n",
       "      <td>Adjuntas</td>\n",
       "      <td>Puerto Rico</td>\n",
       "      <td>17599</td>\n",
       "      <td>111.4</td>\n",
       "      <td>0.0</td>\n",
       "      <td>0.0</td>\n",
       "      <td>0.0</td>\n",
       "      <td>0.0</td>\n",
       "      <td>0.0</td>\n",
       "      <td>0.0</td>\n",
       "      <td>100.0</td>\n",
       "      <td>0.0</td>\n",
       "    </tr>\n",
       "  </tbody>\n",
       "</table>\n",
       "</div>"
      ],
      "text/plain": [
       "  Zip_Code      City        State  Population  Density  White  Black  \\\n",
       "0    00601  Adjuntas  Puerto Rico       17599    111.4    0.0    0.0   \n",
       "\n",
       "   Native_American  Asian  Hawaiian_Pacific_Islander  Other  Latino  \\\n",
       "0              0.0    0.0                        0.0    0.0   100.0   \n",
       "\n",
       "   Mixed_Race  \n",
       "0         0.0  "
      ]
     },
     "execution_count": 39,
     "metadata": {},
     "output_type": "execute_result"
    }
   ],
   "source": [
    "cleaned.head(1)"
   ]
  },
  {
   "cell_type": "code",
   "execution_count": 40,
   "metadata": {},
   "outputs": [
    {
     "data": {
      "text/plain": [
       "Index(['White', 'Black', 'Native_American', 'Asian',\n",
       "       'Hawaiian_Pacific_Islander', 'Other', 'Latino', 'Mixed_Race'],\n",
       "      dtype='object')"
      ]
     },
     "execution_count": 40,
     "metadata": {},
     "output_type": "execute_result"
    }
   ],
   "source": [
    "cleaned.columns[5:]"
   ]
  },
  {
   "cell_type": "code",
   "execution_count": 41,
   "metadata": {},
   "outputs": [],
   "source": [
    "for col in cleaned.columns[5:]:\n",
    "    cleaned[col] = cleaned[col].astype(int)"
   ]
  },
  {
   "cell_type": "code",
   "execution_count": 42,
   "metadata": {},
   "outputs": [
    {
     "data": {
      "text/plain": [
       "Zip_Code                      object\n",
       "City                          object\n",
       "State                         object\n",
       "Population                     int64\n",
       "Density                      float64\n",
       "White                          int32\n",
       "Black                          int32\n",
       "Native_American                int32\n",
       "Asian                          int32\n",
       "Hawaiian_Pacific_Islander      int32\n",
       "Other                          int32\n",
       "Latino                         int32\n",
       "Mixed_Race                     int32\n",
       "dtype: object"
      ]
     },
     "execution_count": 42,
     "metadata": {},
     "output_type": "execute_result"
    }
   ],
   "source": [
    "cleaned.dtypes"
   ]
  },
  {
   "cell_type": "code",
   "execution_count": 43,
   "metadata": {},
   "outputs": [
    {
     "data": {
      "text/html": [
       "<div>\n",
       "<style scoped>\n",
       "    .dataframe tbody tr th:only-of-type {\n",
       "        vertical-align: middle;\n",
       "    }\n",
       "\n",
       "    .dataframe tbody tr th {\n",
       "        vertical-align: top;\n",
       "    }\n",
       "\n",
       "    .dataframe thead th {\n",
       "        text-align: right;\n",
       "    }\n",
       "</style>\n",
       "<table border=\"1\" class=\"dataframe\">\n",
       "  <thead>\n",
       "    <tr style=\"text-align: right;\">\n",
       "      <th></th>\n",
       "      <th>Zip_Code</th>\n",
       "      <th>City</th>\n",
       "      <th>State</th>\n",
       "      <th>Population</th>\n",
       "      <th>Density</th>\n",
       "      <th>White</th>\n",
       "      <th>Black</th>\n",
       "      <th>Native_American</th>\n",
       "      <th>Asian</th>\n",
       "      <th>Hawaiian_Pacific_Islander</th>\n",
       "      <th>Other</th>\n",
       "      <th>Latino</th>\n",
       "      <th>Mixed_Race</th>\n",
       "    </tr>\n",
       "  </thead>\n",
       "  <tbody>\n",
       "    <tr>\n",
       "      <td>0</td>\n",
       "      <td>00601</td>\n",
       "      <td>Adjuntas</td>\n",
       "      <td>Puerto Rico</td>\n",
       "      <td>17599</td>\n",
       "      <td>111.4</td>\n",
       "      <td>0</td>\n",
       "      <td>0</td>\n",
       "      <td>0</td>\n",
       "      <td>0</td>\n",
       "      <td>0</td>\n",
       "      <td>0</td>\n",
       "      <td>100</td>\n",
       "      <td>0</td>\n",
       "    </tr>\n",
       "  </tbody>\n",
       "</table>\n",
       "</div>"
      ],
      "text/plain": [
       "  Zip_Code      City        State  Population  Density  White  Black  \\\n",
       "0    00601  Adjuntas  Puerto Rico       17599    111.4      0      0   \n",
       "\n",
       "   Native_American  Asian  Hawaiian_Pacific_Islander  Other  Latino  \\\n",
       "0                0      0                          0      0     100   \n",
       "\n",
       "   Mixed_Race  \n",
       "0           0  "
      ]
     },
     "execution_count": 43,
     "metadata": {},
     "output_type": "execute_result"
    }
   ],
   "source": [
    "cleaned.head(1)"
   ]
  },
  {
   "cell_type": "code",
   "execution_count": 44,
   "metadata": {},
   "outputs": [],
   "source": [
    "cleaned.to_csv('census_race_cleaned.csv', index=False)"
   ]
  },
  {
   "cell_type": "markdown",
   "metadata": {},
   "source": [
    "---"
   ]
  },
  {
   "cell_type": "markdown",
   "metadata": {},
   "source": [
    "#### Delete Records Missing Zip Codes in QGIS\n",
    "(they correspond to U.S. territories or very small areas)"
   ]
  },
  {
   "cell_type": "code",
   "execution_count": 45,
   "metadata": {},
   "outputs": [
    {
     "name": "stdout",
     "output_type": "stream",
     "text": [
      "33144\n",
      "33120\n",
      "33099\n"
     ]
    }
   ],
   "source": [
    "print(len(zip_shape))\n",
    "print(len(cleaned))\n",
    "print(len(zip_city))"
   ]
  },
  {
   "cell_type": "code",
   "execution_count": 47,
   "metadata": {},
   "outputs": [
    {
     "name": "stdout",
     "output_type": "stream",
     "text": [
      "45\n",
      "[801, 802, 820, 823, 824, 830, 831, 840, 841, 850, 851, 17270, 17767, 19542, 20307, 42084, 42731, 45145, 45418, 48921, 54010, 54934, 56177, 63464, 64192, 66019, 83601, 84144, 95250, 95314, 96799, 96910, 96913, 96915, 96916, 96917, 96921, 96928, 96929, 96932, 96950, 96951, 96952, 98205, 98929]\n"
     ]
    }
   ],
   "source": [
    "missing = []\n",
    "cleaned_zips = cleaned['Zip_Code'].astype(int).values\n",
    "for zipc in zip_shape.sort_values('GEOID10')['GEOID10']:\n",
    "    if zipc not in cleaned_zips or zipc not in zip_city['zip'].values:\n",
    "        missing.append(zipc)\n",
    "        \n",
    "print(len(missing))\n",
    "print(missing)"
   ]
  },
  {
   "cell_type": "markdown",
   "metadata": {},
   "source": [
    "---"
   ]
  },
  {
   "cell_type": "code",
   "execution_count": 54,
   "metadata": {},
   "outputs": [
    {
     "data": {
      "text/html": [
       "<div>\n",
       "<style scoped>\n",
       "    .dataframe tbody tr th:only-of-type {\n",
       "        vertical-align: middle;\n",
       "    }\n",
       "\n",
       "    .dataframe tbody tr th {\n",
       "        vertical-align: top;\n",
       "    }\n",
       "\n",
       "    .dataframe thead th {\n",
       "        text-align: right;\n",
       "    }\n",
       "</style>\n",
       "<table border=\"1\" class=\"dataframe\">\n",
       "  <thead>\n",
       "    <tr style=\"text-align: right;\">\n",
       "      <th></th>\n",
       "      <th>Zip_Code</th>\n",
       "      <th>City</th>\n",
       "      <th>State</th>\n",
       "      <th>Population</th>\n",
       "      <th>Density</th>\n",
       "      <th>White</th>\n",
       "      <th>Black</th>\n",
       "      <th>Native_American</th>\n",
       "      <th>Asian</th>\n",
       "      <th>Hawaiian_Pacific_Islander</th>\n",
       "      <th>Other</th>\n",
       "      <th>Latino</th>\n",
       "      <th>Mixed_Race</th>\n",
       "    </tr>\n",
       "  </thead>\n",
       "  <tbody>\n",
       "    <tr>\n",
       "      <td>575</td>\n",
       "      <td>02538</td>\n",
       "      <td>East Wareham</td>\n",
       "      <td>Massachusetts</td>\n",
       "      <td>3571</td>\n",
       "      <td>306.4</td>\n",
       "      <td>74</td>\n",
       "      <td>2</td>\n",
       "      <td>0</td>\n",
       "      <td>2</td>\n",
       "      <td>0</td>\n",
       "      <td>11</td>\n",
       "      <td>3</td>\n",
       "      <td>8</td>\n",
       "    </tr>\n",
       "    <tr>\n",
       "      <td>584</td>\n",
       "      <td>02558</td>\n",
       "      <td>Onset</td>\n",
       "      <td>Massachusetts</td>\n",
       "      <td>749</td>\n",
       "      <td>677.0</td>\n",
       "      <td>72</td>\n",
       "      <td>4</td>\n",
       "      <td>0</td>\n",
       "      <td>0</td>\n",
       "      <td>0</td>\n",
       "      <td>24</td>\n",
       "      <td>0</td>\n",
       "      <td>0</td>\n",
       "    </tr>\n",
       "    <tr>\n",
       "      <td>629</td>\n",
       "      <td>02672</td>\n",
       "      <td>West Hyannisport</td>\n",
       "      <td>Massachusetts</td>\n",
       "      <td>368</td>\n",
       "      <td>140.6</td>\n",
       "      <td>89</td>\n",
       "      <td>0</td>\n",
       "      <td>0</td>\n",
       "      <td>0</td>\n",
       "      <td>0</td>\n",
       "      <td>11</td>\n",
       "      <td>0</td>\n",
       "      <td>0</td>\n",
       "    </tr>\n",
       "    <tr>\n",
       "      <td>2332</td>\n",
       "      <td>08073</td>\n",
       "      <td>Rancocas</td>\n",
       "      <td>New Jersey</td>\n",
       "      <td>248</td>\n",
       "      <td>818.0</td>\n",
       "      <td>77</td>\n",
       "      <td>0</td>\n",
       "      <td>0</td>\n",
       "      <td>0</td>\n",
       "      <td>0</td>\n",
       "      <td>23</td>\n",
       "      <td>0</td>\n",
       "      <td>0</td>\n",
       "    </tr>\n",
       "    <tr>\n",
       "      <td>2897</td>\n",
       "      <td>11419</td>\n",
       "      <td>South Richmond Hill</td>\n",
       "      <td>New York</td>\n",
       "      <td>52392</td>\n",
       "      <td>16283.6</td>\n",
       "      <td>4</td>\n",
       "      <td>16</td>\n",
       "      <td>1</td>\n",
       "      <td>28</td>\n",
       "      <td>0</td>\n",
       "      <td>23</td>\n",
       "      <td>19</td>\n",
       "      <td>10</td>\n",
       "    </tr>\n",
       "    <tr>\n",
       "      <td>2898</td>\n",
       "      <td>11420</td>\n",
       "      <td>South Ozone Park</td>\n",
       "      <td>New York</td>\n",
       "      <td>49396</td>\n",
       "      <td>8243.5</td>\n",
       "      <td>6</td>\n",
       "      <td>22</td>\n",
       "      <td>1</td>\n",
       "      <td>27</td>\n",
       "      <td>0</td>\n",
       "      <td>11</td>\n",
       "      <td>22</td>\n",
       "      <td>11</td>\n",
       "    </tr>\n",
       "    <tr>\n",
       "      <td>3281</td>\n",
       "      <td>12454</td>\n",
       "      <td>Maplecrest</td>\n",
       "      <td>New York</td>\n",
       "      <td>299</td>\n",
       "      <td>10.3</td>\n",
       "      <td>89</td>\n",
       "      <td>0</td>\n",
       "      <td>0</td>\n",
       "      <td>0</td>\n",
       "      <td>0</td>\n",
       "      <td>11</td>\n",
       "      <td>0</td>\n",
       "      <td>0</td>\n",
       "    </tr>\n",
       "    <tr>\n",
       "      <td>3290</td>\n",
       "      <td>12464</td>\n",
       "      <td>Phoenicia</td>\n",
       "      <td>New York</td>\n",
       "      <td>790</td>\n",
       "      <td>8.9</td>\n",
       "      <td>85</td>\n",
       "      <td>0</td>\n",
       "      <td>0</td>\n",
       "      <td>0</td>\n",
       "      <td>0</td>\n",
       "      <td>15</td>\n",
       "      <td>0</td>\n",
       "      <td>0</td>\n",
       "    </tr>\n",
       "    <tr>\n",
       "      <td>6714</td>\n",
       "      <td>21778</td>\n",
       "      <td>Rocky Ridge</td>\n",
       "      <td>Maryland</td>\n",
       "      <td>1364</td>\n",
       "      <td>24.1</td>\n",
       "      <td>78</td>\n",
       "      <td>0</td>\n",
       "      <td>0</td>\n",
       "      <td>0</td>\n",
       "      <td>0</td>\n",
       "      <td>22</td>\n",
       "      <td>1</td>\n",
       "      <td>0</td>\n",
       "    </tr>\n",
       "    <tr>\n",
       "      <td>7374</td>\n",
       "      <td>24082</td>\n",
       "      <td>Critz</td>\n",
       "      <td>Virginia</td>\n",
       "      <td>441</td>\n",
       "      <td>21.6</td>\n",
       "      <td>59</td>\n",
       "      <td>25</td>\n",
       "      <td>0</td>\n",
       "      <td>0</td>\n",
       "      <td>0</td>\n",
       "      <td>15</td>\n",
       "      <td>0</td>\n",
       "      <td>0</td>\n",
       "    </tr>\n",
       "    <tr>\n",
       "      <td>8708</td>\n",
       "      <td>28039</td>\n",
       "      <td>East Spencer</td>\n",
       "      <td>North Carolina</td>\n",
       "      <td>89</td>\n",
       "      <td>526.9</td>\n",
       "      <td>0</td>\n",
       "      <td>39</td>\n",
       "      <td>0</td>\n",
       "      <td>0</td>\n",
       "      <td>0</td>\n",
       "      <td>61</td>\n",
       "      <td>0</td>\n",
       "      <td>0</td>\n",
       "    </tr>\n",
       "    <tr>\n",
       "      <td>17537</td>\n",
       "      <td>52557</td>\n",
       "      <td>Fairfield</td>\n",
       "      <td>Iowa</td>\n",
       "      <td>70</td>\n",
       "      <td>732.1</td>\n",
       "      <td>14</td>\n",
       "      <td>6</td>\n",
       "      <td>0</td>\n",
       "      <td>10</td>\n",
       "      <td>0</td>\n",
       "      <td>70</td>\n",
       "      <td>0</td>\n",
       "      <td>0</td>\n",
       "    </tr>\n",
       "    <tr>\n",
       "      <td>20026</td>\n",
       "      <td>58776</td>\n",
       "      <td>Ross</td>\n",
       "      <td>North Dakota</td>\n",
       "      <td>218</td>\n",
       "      <td>0.7</td>\n",
       "      <td>59</td>\n",
       "      <td>0</td>\n",
       "      <td>0</td>\n",
       "      <td>0</td>\n",
       "      <td>0</td>\n",
       "      <td>16</td>\n",
       "      <td>16</td>\n",
       "      <td>10</td>\n",
       "    </tr>\n",
       "    <tr>\n",
       "      <td>27162</td>\n",
       "      <td>78235</td>\n",
       "      <td>San Antonio</td>\n",
       "      <td>Texas</td>\n",
       "      <td>1062</td>\n",
       "      <td>131.5</td>\n",
       "      <td>16</td>\n",
       "      <td>5</td>\n",
       "      <td>0</td>\n",
       "      <td>0</td>\n",
       "      <td>0</td>\n",
       "      <td>15</td>\n",
       "      <td>61</td>\n",
       "      <td>3</td>\n",
       "    </tr>\n",
       "    <tr>\n",
       "      <td>29657</td>\n",
       "      <td>87732</td>\n",
       "      <td>Mora</td>\n",
       "      <td>New Mexico</td>\n",
       "      <td>1393</td>\n",
       "      <td>4.2</td>\n",
       "      <td>10</td>\n",
       "      <td>0</td>\n",
       "      <td>0</td>\n",
       "      <td>0</td>\n",
       "      <td>0</td>\n",
       "      <td>23</td>\n",
       "      <td>67</td>\n",
       "      <td>0</td>\n",
       "    </tr>\n",
       "  </tbody>\n",
       "</table>\n",
       "</div>"
      ],
      "text/plain": [
       "      Zip_Code                 City           State  Population  Density  \\\n",
       "575      02538         East Wareham   Massachusetts        3571    306.4   \n",
       "584      02558                Onset   Massachusetts         749    677.0   \n",
       "629      02672     West Hyannisport   Massachusetts         368    140.6   \n",
       "2332     08073             Rancocas      New Jersey         248    818.0   \n",
       "2897     11419  South Richmond Hill        New York       52392  16283.6   \n",
       "2898     11420     South Ozone Park        New York       49396   8243.5   \n",
       "3281     12454           Maplecrest        New York         299     10.3   \n",
       "3290     12464            Phoenicia        New York         790      8.9   \n",
       "6714     21778          Rocky Ridge        Maryland        1364     24.1   \n",
       "7374     24082                Critz        Virginia         441     21.6   \n",
       "8708     28039         East Spencer  North Carolina          89    526.9   \n",
       "17537    52557            Fairfield            Iowa          70    732.1   \n",
       "20026    58776                 Ross    North Dakota         218      0.7   \n",
       "27162    78235          San Antonio           Texas        1062    131.5   \n",
       "29657    87732                 Mora      New Mexico        1393      4.2   \n",
       "\n",
       "       White  Black  Native_American  Asian  Hawaiian_Pacific_Islander  Other  \\\n",
       "575       74      2                0      2                          0     11   \n",
       "584       72      4                0      0                          0     24   \n",
       "629       89      0                0      0                          0     11   \n",
       "2332      77      0                0      0                          0     23   \n",
       "2897       4     16                1     28                          0     23   \n",
       "2898       6     22                1     27                          0     11   \n",
       "3281      89      0                0      0                          0     11   \n",
       "3290      85      0                0      0                          0     15   \n",
       "6714      78      0                0      0                          0     22   \n",
       "7374      59     25                0      0                          0     15   \n",
       "8708       0     39                0      0                          0     61   \n",
       "17537     14      6                0     10                          0     70   \n",
       "20026     59      0                0      0                          0     16   \n",
       "27162     16      5                0      0                          0     15   \n",
       "29657     10      0                0      0                          0     23   \n",
       "\n",
       "       Latino  Mixed_Race  \n",
       "575         3           8  \n",
       "584         0           0  \n",
       "629         0           0  \n",
       "2332        0           0  \n",
       "2897       19          10  \n",
       "2898       22          11  \n",
       "3281        0           0  \n",
       "3290        0           0  \n",
       "6714        1           0  \n",
       "7374        0           0  \n",
       "8708        0           0  \n",
       "17537       0           0  \n",
       "20026      16          10  \n",
       "27162      61           3  \n",
       "29657      67           0  "
      ]
     },
     "execution_count": 54,
     "metadata": {},
     "output_type": "execute_result"
    }
   ],
   "source": [
    "cleaned[cleaned.Other > 10]"
   ]
  },
  {
   "cell_type": "markdown",
   "metadata": {},
   "source": [
    "*Exclude Other since it's hardly represented"
   ]
  }
 ],
 "metadata": {
  "kernelspec": {
   "display_name": "Python 3",
   "language": "python",
   "name": "python3"
  },
  "language_info": {
   "codemirror_mode": {
    "name": "ipython",
    "version": 3
   },
   "file_extension": ".py",
   "mimetype": "text/x-python",
   "name": "python",
   "nbconvert_exporter": "python",
   "pygments_lexer": "ipython3",
   "version": "3.6.7"
  }
 },
 "nbformat": 4,
 "nbformat_minor": 4
}
